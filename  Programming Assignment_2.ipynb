{
 "cells": [
  {
   "cell_type": "markdown",
   "id": "73300f59",
   "metadata": {},
   "source": [
    "# Programming Assignment_2"
   ]
  },
  {
   "cell_type": "markdown",
   "id": "9095c0d5",
   "metadata": {},
   "source": [
    "### 1. Write a Python program to convert kilometers to miles?"
   ]
  },
  {
   "cell_type": "code",
   "execution_count": 2,
   "id": "ddf0b3e6",
   "metadata": {},
   "outputs": [
    {
     "name": "stdout",
     "output_type": "stream",
     "text": [
      "Enter distance (in kms): 100\n",
      "\n",
      "Distance (in miles):  62.137100000000004\n"
     ]
    }
   ],
   "source": [
    "# input distance from user in kms\n",
    "kms = int(input('Enter distance (in kms): '))\n",
    "\n",
    "# 1 km = 0.621371 miles\n",
    "# output the answer\n",
    "print('\\nDistance (in miles): ', kms * 0.621371)"
   ]
  },
  {
   "cell_type": "markdown",
   "id": "5ba33a84",
   "metadata": {},
   "source": [
    "### 2. Write a Python program to convert Celsius to Fahrenheit?"
   ]
  },
  {
   "cell_type": "code",
   "execution_count": 3,
   "id": "18474bb2",
   "metadata": {},
   "outputs": [
    {
     "name": "stdout",
     "output_type": "stream",
     "text": [
      "Enter temperature (in °C): 100\n",
      "\n",
      "Temperature (in °F):  212.0\n"
     ]
    }
   ],
   "source": [
    "# input tempertature from user in celcius\n",
    "cls = int(input('Enter temperature (in °C): '))\n",
    "\n",
    "#(°C × 9/5) + 32 = °F\n",
    "#output the answer\n",
    "print('\\nTemperature (in °F): ', (cls * 9 / 5) + 32)"
   ]
  },
  {
   "cell_type": "markdown",
   "id": "6303ed3d",
   "metadata": {},
   "source": [
    "### 3. Write a Python program to display calendar?"
   ]
  },
  {
   "cell_type": "code",
   "execution_count": 6,
   "id": "ceab11f2",
   "metadata": {},
   "outputs": [
    {
     "name": "stdout",
     "output_type": "stream",
     "text": [
      "Enter year: 2022\n",
      "Enter month: 8\n",
      "    August 2022\n",
      "Mo Tu We Th Fr Sa Su\n",
      " 1  2  3  4  5  6  7\n",
      " 8  9 10 11 12 13 14\n",
      "15 16 17 18 19 20 21\n",
      "22 23 24 25 26 27 28\n",
      "29 30 31\n",
      "\n"
     ]
    }
   ],
   "source": [
    "#Here calendar library is used\n",
    "# Import the library\n",
    "import calendar\n",
    "\n",
    "#Take year and month as input from the user\n",
    "year = int(input('Enter year: '))\n",
    "month = int(input('Enter month: '))\n",
    "\n",
    "#output the calendar\n",
    "print(calendar.month(year, month))"
   ]
  },
  {
   "cell_type": "markdown",
   "id": "3397b2d9",
   "metadata": {},
   "source": [
    "### 4. Write a Python program to solve quadratic equation?"
   ]
  },
  {
   "cell_type": "code",
   "execution_count": 11,
   "id": "ba0e9e26",
   "metadata": {},
   "outputs": [
    {
     "name": "stdout",
     "output_type": "stream",
     "text": [
      "Enter Valur of a: 2\n",
      "Enter Valur of b: 5\n",
      "Enter Valur of c: 10\n",
      "\n",
      "The answers are:(-1.25-1.8540496217739157j) and (-1.25+1.8540496217739157j)\n"
     ]
    }
   ],
   "source": [
    "#  import math module\n",
    "import cmath as math\n",
    "\n",
    "# A quadratic equation is in the form of ax^2 + bx + c = 0\n",
    "# Take value of a, b, c from the user\n",
    "a , b , c = int(input('Enter Valur of a: ')) , int(input('Enter Valur of b: ')) , int(input('Enter Valur of c: '))\n",
    "\n",
    "# The two answers for the equation are:\n",
    "ans1 = (-b - math.sqrt(b**2 - (4 * a * c))) / (2 * a)\n",
    "ans2 = (-b + math.sqrt(b**2 - (4 * a * c))) / (2 * a)\n",
    "\n",
    "#Output the answers\n",
    "print('\\nThe answers are:{0} and {1}'.format(ans1, ans2))"
   ]
  },
  {
   "cell_type": "markdown",
   "id": "0e89dd24",
   "metadata": {},
   "source": [
    "### 5. Write a Python program to swap two variables without temp variable?"
   ]
  },
  {
   "cell_type": "code",
   "execution_count": 12,
   "id": "8e1ad65a",
   "metadata": {},
   "outputs": [
    {
     "name": "stdout",
     "output_type": "stream",
     "text": [
      "Enter into var1: Happy\n",
      "Enter into var2: Birthday\n",
      "\n",
      "Values after Swapping\n",
      "var1:  Birthday\n",
      "var2:  Happy\n"
     ]
    }
   ],
   "source": [
    "# Take two values from user\n",
    "var1 = input('Enter into var1: ')\n",
    "var2 = input('Enter into var2: ')\n",
    "\n",
    "# Swap the values\n",
    "var1 , var2 = var2 , var1\n",
    "\n",
    "# print the values\n",
    "print('\\nValues after Swapping')\n",
    "print('var1: ', var1)\n",
    "print('var2: ', var2)"
   ]
  }
 ],
 "metadata": {
  "kernelspec": {
   "display_name": "Python 3 (ipykernel)",
   "language": "python",
   "name": "python3"
  },
  "language_info": {
   "codemirror_mode": {
    "name": "ipython",
    "version": 3
   },
   "file_extension": ".py",
   "mimetype": "text/x-python",
   "name": "python",
   "nbconvert_exporter": "python",
   "pygments_lexer": "ipython3",
   "version": "3.9.7"
  }
 },
 "nbformat": 4,
 "nbformat_minor": 5
}
